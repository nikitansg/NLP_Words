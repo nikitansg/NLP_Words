{
  "nbformat": 4,
  "nbformat_minor": 0,
  "metadata": {
    "colab": {
      "provenance": []
    },
    "kernelspec": {
      "name": "python3",
      "display_name": "Python 3"
    },
    "language_info": {
      "name": "python"
    }
  },
  "cells": [
    {
      "cell_type": "code",
      "execution_count": null,
      "metadata": {
        "colab": {
          "base_uri": "https://localhost:8080/"
        },
        "id": "NGwv7h2Yncwf",
        "outputId": "55a9f71a-af70-4c7c-cbeb-be950e3b7137"
      },
      "outputs": [
        {
          "output_type": "stream",
          "name": "stdout",
          "text": [
            "Drive already mounted at /content/drive/; to attempt to forcibly remount, call drive.mount(\"/content/drive/\", force_remount=True).\n"
          ]
        }
      ],
      "source": [
        "from google.colab import drive\n",
        "drive.mount('/content/drive/')"
      ]
    },
    {
      "cell_type": "code",
      "source": [
        "import numpy as np\n",
        "import pandas as pd\n"
      ],
      "metadata": {
        "id": "7kExMTWRn-ON"
      },
      "execution_count": null,
      "outputs": []
    },
    {
      "cell_type": "code",
      "source": [
        "dataset = pd.read_csv('/content/drive/MyDrive/Restaurant_Reviews.tsv',delimiter='\\t',quoting=3)"
      ],
      "metadata": {
        "id": "Qzw4DBe7oGXq"
      },
      "execution_count": null,
      "outputs": []
    },
    {
      "cell_type": "code",
      "source": [
        "dataset.head(10)"
      ],
      "metadata": {
        "colab": {
          "base_uri": "https://localhost:8080/",
          "height": 363
        },
        "id": "xIj3L5WEpId8",
        "outputId": "9fb8ebdb-e9a9-434f-d799-fa15c0cb5a25"
      },
      "execution_count": null,
      "outputs": [
        {
          "output_type": "execute_result",
          "data": {
            "text/html": [
              "\n",
              "  <div id=\"df-dc5286d8-609b-42c2-812b-50c6f93fe15e\">\n",
              "    <div class=\"colab-df-container\">\n",
              "      <div>\n",
              "<style scoped>\n",
              "    .dataframe tbody tr th:only-of-type {\n",
              "        vertical-align: middle;\n",
              "    }\n",
              "\n",
              "    .dataframe tbody tr th {\n",
              "        vertical-align: top;\n",
              "    }\n",
              "\n",
              "    .dataframe thead th {\n",
              "        text-align: right;\n",
              "    }\n",
              "</style>\n",
              "<table border=\"1\" class=\"dataframe\">\n",
              "  <thead>\n",
              "    <tr style=\"text-align: right;\">\n",
              "      <th></th>\n",
              "      <th>Review</th>\n",
              "      <th>Liked</th>\n",
              "    </tr>\n",
              "  </thead>\n",
              "  <tbody>\n",
              "    <tr>\n",
              "      <th>0</th>\n",
              "      <td>Wow... Loved this place.</td>\n",
              "      <td>1</td>\n",
              "    </tr>\n",
              "    <tr>\n",
              "      <th>1</th>\n",
              "      <td>Crust is not good.</td>\n",
              "      <td>0</td>\n",
              "    </tr>\n",
              "    <tr>\n",
              "      <th>2</th>\n",
              "      <td>Not tasty and the texture was just nasty.</td>\n",
              "      <td>0</td>\n",
              "    </tr>\n",
              "    <tr>\n",
              "      <th>3</th>\n",
              "      <td>Stopped by during the late May bank holiday of...</td>\n",
              "      <td>1</td>\n",
              "    </tr>\n",
              "    <tr>\n",
              "      <th>4</th>\n",
              "      <td>The selection on the menu was great and so wer...</td>\n",
              "      <td>1</td>\n",
              "    </tr>\n",
              "    <tr>\n",
              "      <th>5</th>\n",
              "      <td>Now I am getting angry and I want my damn pho.</td>\n",
              "      <td>0</td>\n",
              "    </tr>\n",
              "    <tr>\n",
              "      <th>6</th>\n",
              "      <td>Honeslty it didn't taste THAT fresh.)</td>\n",
              "      <td>0</td>\n",
              "    </tr>\n",
              "    <tr>\n",
              "      <th>7</th>\n",
              "      <td>The potatoes were like rubber and you could te...</td>\n",
              "      <td>0</td>\n",
              "    </tr>\n",
              "    <tr>\n",
              "      <th>8</th>\n",
              "      <td>The fries were great too.</td>\n",
              "      <td>1</td>\n",
              "    </tr>\n",
              "    <tr>\n",
              "      <th>9</th>\n",
              "      <td>A great touch.</td>\n",
              "      <td>1</td>\n",
              "    </tr>\n",
              "  </tbody>\n",
              "</table>\n",
              "</div>\n",
              "      <button class=\"colab-df-convert\" onclick=\"convertToInteractive('df-dc5286d8-609b-42c2-812b-50c6f93fe15e')\"\n",
              "              title=\"Convert this dataframe to an interactive table.\"\n",
              "              style=\"display:none;\">\n",
              "        \n",
              "  <svg xmlns=\"http://www.w3.org/2000/svg\" height=\"24px\"viewBox=\"0 0 24 24\"\n",
              "       width=\"24px\">\n",
              "    <path d=\"M0 0h24v24H0V0z\" fill=\"none\"/>\n",
              "    <path d=\"M18.56 5.44l.94 2.06.94-2.06 2.06-.94-2.06-.94-.94-2.06-.94 2.06-2.06.94zm-11 1L8.5 8.5l.94-2.06 2.06-.94-2.06-.94L8.5 2.5l-.94 2.06-2.06.94zm10 10l.94 2.06.94-2.06 2.06-.94-2.06-.94-.94-2.06-.94 2.06-2.06.94z\"/><path d=\"M17.41 7.96l-1.37-1.37c-.4-.4-.92-.59-1.43-.59-.52 0-1.04.2-1.43.59L10.3 9.45l-7.72 7.72c-.78.78-.78 2.05 0 2.83L4 21.41c.39.39.9.59 1.41.59.51 0 1.02-.2 1.41-.59l7.78-7.78 2.81-2.81c.8-.78.8-2.07 0-2.86zM5.41 20L4 18.59l7.72-7.72 1.47 1.35L5.41 20z\"/>\n",
              "  </svg>\n",
              "      </button>\n",
              "      \n",
              "  <style>\n",
              "    .colab-df-container {\n",
              "      display:flex;\n",
              "      flex-wrap:wrap;\n",
              "      gap: 12px;\n",
              "    }\n",
              "\n",
              "    .colab-df-convert {\n",
              "      background-color: #E8F0FE;\n",
              "      border: none;\n",
              "      border-radius: 50%;\n",
              "      cursor: pointer;\n",
              "      display: none;\n",
              "      fill: #1967D2;\n",
              "      height: 32px;\n",
              "      padding: 0 0 0 0;\n",
              "      width: 32px;\n",
              "    }\n",
              "\n",
              "    .colab-df-convert:hover {\n",
              "      background-color: #E2EBFA;\n",
              "      box-shadow: 0px 1px 2px rgba(60, 64, 67, 0.3), 0px 1px 3px 1px rgba(60, 64, 67, 0.15);\n",
              "      fill: #174EA6;\n",
              "    }\n",
              "\n",
              "    [theme=dark] .colab-df-convert {\n",
              "      background-color: #3B4455;\n",
              "      fill: #D2E3FC;\n",
              "    }\n",
              "\n",
              "    [theme=dark] .colab-df-convert:hover {\n",
              "      background-color: #434B5C;\n",
              "      box-shadow: 0px 1px 3px 1px rgba(0, 0, 0, 0.15);\n",
              "      filter: drop-shadow(0px 1px 2px rgba(0, 0, 0, 0.3));\n",
              "      fill: #FFFFFF;\n",
              "    }\n",
              "  </style>\n",
              "\n",
              "      <script>\n",
              "        const buttonEl =\n",
              "          document.querySelector('#df-dc5286d8-609b-42c2-812b-50c6f93fe15e button.colab-df-convert');\n",
              "        buttonEl.style.display =\n",
              "          google.colab.kernel.accessAllowed ? 'block' : 'none';\n",
              "\n",
              "        async function convertToInteractive(key) {\n",
              "          const element = document.querySelector('#df-dc5286d8-609b-42c2-812b-50c6f93fe15e');\n",
              "          const dataTable =\n",
              "            await google.colab.kernel.invokeFunction('convertToInteractive',\n",
              "                                                     [key], {});\n",
              "          if (!dataTable) return;\n",
              "\n",
              "          const docLinkHtml = 'Like what you see? Visit the ' +\n",
              "            '<a target=\"_blank\" href=https://colab.research.google.com/notebooks/data_table.ipynb>data table notebook</a>'\n",
              "            + ' to learn more about interactive tables.';\n",
              "          element.innerHTML = '';\n",
              "          dataTable['output_type'] = 'display_data';\n",
              "          await google.colab.output.renderOutput(dataTable, element);\n",
              "          const docLink = document.createElement('div');\n",
              "          docLink.innerHTML = docLinkHtml;\n",
              "          element.appendChild(docLink);\n",
              "        }\n",
              "      </script>\n",
              "    </div>\n",
              "  </div>\n",
              "  "
            ],
            "text/plain": [
              "                                              Review  Liked\n",
              "0                           Wow... Loved this place.      1\n",
              "1                                 Crust is not good.      0\n",
              "2          Not tasty and the texture was just nasty.      0\n",
              "3  Stopped by during the late May bank holiday of...      1\n",
              "4  The selection on the menu was great and so wer...      1\n",
              "5     Now I am getting angry and I want my damn pho.      0\n",
              "6              Honeslty it didn't taste THAT fresh.)      0\n",
              "7  The potatoes were like rubber and you could te...      0\n",
              "8                          The fries were great too.      1\n",
              "9                                     A great touch.      1"
            ]
          },
          "metadata": {},
          "execution_count": 99
        }
      ]
    },
    {
      "cell_type": "code",
      "source": [
        "dataset.tail(10)"
      ],
      "metadata": {
        "colab": {
          "base_uri": "https://localhost:8080/",
          "height": 363
        },
        "id": "qbrnpephrKsn",
        "outputId": "a99f7bd4-0e1d-4158-dd58-1d01880b9c10"
      },
      "execution_count": null,
      "outputs": [
        {
          "output_type": "execute_result",
          "data": {
            "text/html": [
              "\n",
              "  <div id=\"df-7bd1d971-4ebd-444b-9be0-080e169c2021\">\n",
              "    <div class=\"colab-df-container\">\n",
              "      <div>\n",
              "<style scoped>\n",
              "    .dataframe tbody tr th:only-of-type {\n",
              "        vertical-align: middle;\n",
              "    }\n",
              "\n",
              "    .dataframe tbody tr th {\n",
              "        vertical-align: top;\n",
              "    }\n",
              "\n",
              "    .dataframe thead th {\n",
              "        text-align: right;\n",
              "    }\n",
              "</style>\n",
              "<table border=\"1\" class=\"dataframe\">\n",
              "  <thead>\n",
              "    <tr style=\"text-align: right;\">\n",
              "      <th></th>\n",
              "      <th>Review</th>\n",
              "      <th>Liked</th>\n",
              "    </tr>\n",
              "  </thead>\n",
              "  <tbody>\n",
              "    <tr>\n",
              "      <th>990</th>\n",
              "      <td>The refried beans that came with my meal were ...</td>\n",
              "      <td>0</td>\n",
              "    </tr>\n",
              "    <tr>\n",
              "      <th>991</th>\n",
              "      <td>Spend your money and time some place else.</td>\n",
              "      <td>0</td>\n",
              "    </tr>\n",
              "    <tr>\n",
              "      <th>992</th>\n",
              "      <td>A lady at the table next to us found a live gr...</td>\n",
              "      <td>0</td>\n",
              "    </tr>\n",
              "    <tr>\n",
              "      <th>993</th>\n",
              "      <td>the presentation of the food was awful.</td>\n",
              "      <td>0</td>\n",
              "    </tr>\n",
              "    <tr>\n",
              "      <th>994</th>\n",
              "      <td>I can't tell you how disappointed I was.</td>\n",
              "      <td>0</td>\n",
              "    </tr>\n",
              "    <tr>\n",
              "      <th>995</th>\n",
              "      <td>I think food should have flavor and texture an...</td>\n",
              "      <td>0</td>\n",
              "    </tr>\n",
              "    <tr>\n",
              "      <th>996</th>\n",
              "      <td>Appetite instantly gone.</td>\n",
              "      <td>0</td>\n",
              "    </tr>\n",
              "    <tr>\n",
              "      <th>997</th>\n",
              "      <td>Overall I was not impressed and would not go b...</td>\n",
              "      <td>0</td>\n",
              "    </tr>\n",
              "    <tr>\n",
              "      <th>998</th>\n",
              "      <td>The whole experience was underwhelming, and I ...</td>\n",
              "      <td>0</td>\n",
              "    </tr>\n",
              "    <tr>\n",
              "      <th>999</th>\n",
              "      <td>Then, as if I hadn't wasted enough of my life ...</td>\n",
              "      <td>0</td>\n",
              "    </tr>\n",
              "  </tbody>\n",
              "</table>\n",
              "</div>\n",
              "      <button class=\"colab-df-convert\" onclick=\"convertToInteractive('df-7bd1d971-4ebd-444b-9be0-080e169c2021')\"\n",
              "              title=\"Convert this dataframe to an interactive table.\"\n",
              "              style=\"display:none;\">\n",
              "        \n",
              "  <svg xmlns=\"http://www.w3.org/2000/svg\" height=\"24px\"viewBox=\"0 0 24 24\"\n",
              "       width=\"24px\">\n",
              "    <path d=\"M0 0h24v24H0V0z\" fill=\"none\"/>\n",
              "    <path d=\"M18.56 5.44l.94 2.06.94-2.06 2.06-.94-2.06-.94-.94-2.06-.94 2.06-2.06.94zm-11 1L8.5 8.5l.94-2.06 2.06-.94-2.06-.94L8.5 2.5l-.94 2.06-2.06.94zm10 10l.94 2.06.94-2.06 2.06-.94-2.06-.94-.94-2.06-.94 2.06-2.06.94z\"/><path d=\"M17.41 7.96l-1.37-1.37c-.4-.4-.92-.59-1.43-.59-.52 0-1.04.2-1.43.59L10.3 9.45l-7.72 7.72c-.78.78-.78 2.05 0 2.83L4 21.41c.39.39.9.59 1.41.59.51 0 1.02-.2 1.41-.59l7.78-7.78 2.81-2.81c.8-.78.8-2.07 0-2.86zM5.41 20L4 18.59l7.72-7.72 1.47 1.35L5.41 20z\"/>\n",
              "  </svg>\n",
              "      </button>\n",
              "      \n",
              "  <style>\n",
              "    .colab-df-container {\n",
              "      display:flex;\n",
              "      flex-wrap:wrap;\n",
              "      gap: 12px;\n",
              "    }\n",
              "\n",
              "    .colab-df-convert {\n",
              "      background-color: #E8F0FE;\n",
              "      border: none;\n",
              "      border-radius: 50%;\n",
              "      cursor: pointer;\n",
              "      display: none;\n",
              "      fill: #1967D2;\n",
              "      height: 32px;\n",
              "      padding: 0 0 0 0;\n",
              "      width: 32px;\n",
              "    }\n",
              "\n",
              "    .colab-df-convert:hover {\n",
              "      background-color: #E2EBFA;\n",
              "      box-shadow: 0px 1px 2px rgba(60, 64, 67, 0.3), 0px 1px 3px 1px rgba(60, 64, 67, 0.15);\n",
              "      fill: #174EA6;\n",
              "    }\n",
              "\n",
              "    [theme=dark] .colab-df-convert {\n",
              "      background-color: #3B4455;\n",
              "      fill: #D2E3FC;\n",
              "    }\n",
              "\n",
              "    [theme=dark] .colab-df-convert:hover {\n",
              "      background-color: #434B5C;\n",
              "      box-shadow: 0px 1px 3px 1px rgba(0, 0, 0, 0.15);\n",
              "      filter: drop-shadow(0px 1px 2px rgba(0, 0, 0, 0.3));\n",
              "      fill: #FFFFFF;\n",
              "    }\n",
              "  </style>\n",
              "\n",
              "      <script>\n",
              "        const buttonEl =\n",
              "          document.querySelector('#df-7bd1d971-4ebd-444b-9be0-080e169c2021 button.colab-df-convert');\n",
              "        buttonEl.style.display =\n",
              "          google.colab.kernel.accessAllowed ? 'block' : 'none';\n",
              "\n",
              "        async function convertToInteractive(key) {\n",
              "          const element = document.querySelector('#df-7bd1d971-4ebd-444b-9be0-080e169c2021');\n",
              "          const dataTable =\n",
              "            await google.colab.kernel.invokeFunction('convertToInteractive',\n",
              "                                                     [key], {});\n",
              "          if (!dataTable) return;\n",
              "\n",
              "          const docLinkHtml = 'Like what you see? Visit the ' +\n",
              "            '<a target=\"_blank\" href=https://colab.research.google.com/notebooks/data_table.ipynb>data table notebook</a>'\n",
              "            + ' to learn more about interactive tables.';\n",
              "          element.innerHTML = '';\n",
              "          dataTable['output_type'] = 'display_data';\n",
              "          await google.colab.output.renderOutput(dataTable, element);\n",
              "          const docLink = document.createElement('div');\n",
              "          docLink.innerHTML = docLinkHtml;\n",
              "          element.appendChild(docLink);\n",
              "        }\n",
              "      </script>\n",
              "    </div>\n",
              "  </div>\n",
              "  "
            ],
            "text/plain": [
              "                                                Review  Liked\n",
              "990  The refried beans that came with my meal were ...      0\n",
              "991         Spend your money and time some place else.      0\n",
              "992  A lady at the table next to us found a live gr...      0\n",
              "993            the presentation of the food was awful.      0\n",
              "994           I can't tell you how disappointed I was.      0\n",
              "995  I think food should have flavor and texture an...      0\n",
              "996                           Appetite instantly gone.      0\n",
              "997  Overall I was not impressed and would not go b...      0\n",
              "998  The whole experience was underwhelming, and I ...      0\n",
              "999  Then, as if I hadn't wasted enough of my life ...      0"
            ]
          },
          "metadata": {},
          "execution_count": 100
        }
      ]
    },
    {
      "cell_type": "code",
      "source": [
        "print(dataset)"
      ],
      "metadata": {
        "colab": {
          "base_uri": "https://localhost:8080/"
        },
        "id": "QVTLGbwarrE4",
        "outputId": "05bd7e81-d145-48a4-8e4c-9f75256ed42b"
      },
      "execution_count": null,
      "outputs": [
        {
          "output_type": "stream",
          "name": "stdout",
          "text": [
            "                                                Review  Liked\n",
            "0                             Wow... Loved this place.      1\n",
            "1                                   Crust is not good.      0\n",
            "2            Not tasty and the texture was just nasty.      0\n",
            "3    Stopped by during the late May bank holiday of...      1\n",
            "4    The selection on the menu was great and so wer...      1\n",
            "..                                                 ...    ...\n",
            "995  I think food should have flavor and texture an...      0\n",
            "996                           Appetite instantly gone.      0\n",
            "997  Overall I was not impressed and would not go b...      0\n",
            "998  The whole experience was underwhelming, and I ...      0\n",
            "999  Then, as if I hadn't wasted enough of my life ...      0\n",
            "\n",
            "[1000 rows x 2 columns]\n"
          ]
        }
      ]
    },
    {
      "cell_type": "code",
      "source": [
        "#removing all the unnecessary values other than a-z and A-Z characters\n",
        "import re\n",
        "print('Before Cleaning \\n')\n",
        "print(dataset['Review'][0])\n",
        "check = re.sub('[^a-z A-Z]','',dataset['Review'][0])\n",
        "print('\\nafter cleaning\\n')\n",
        "print(check)"
      ],
      "metadata": {
        "colab": {
          "base_uri": "https://localhost:8080/"
        },
        "id": "sSA2XUkOsTxz",
        "outputId": "b89f600a-f179-4464-91a1-dbbf5a383d1a"
      },
      "execution_count": null,
      "outputs": [
        {
          "output_type": "stream",
          "name": "stdout",
          "text": [
            "Before Cleaning \n",
            "\n",
            "Wow... Loved this place.\n",
            "\n",
            "after cleaning\n",
            "\n",
            "Wow Loved this place\n"
          ]
        }
      ]
    },
    {
      "cell_type": "code",
      "source": [
        "#converting the entire string in lower case\n",
        "check = check.lower()\n",
        "print(check)"
      ],
      "metadata": {
        "colab": {
          "base_uri": "https://localhost:8080/"
        },
        "id": "tFvaw5iEt5Qu",
        "outputId": "16c83793-90f5-42d9-a176-948a6c65bfeb"
      },
      "execution_count": null,
      "outputs": [
        {
          "output_type": "stream",
          "name": "stdout",
          "text": [
            "wow loved this place\n"
          ]
        }
      ]
    },
    {
      "cell_type": "code",
      "source": [
        "#removing the non-significant words like ummm, the etc. may it be article etc\n",
        "import nltk\n",
        "#downloading the stopwords\n",
        "#stopwords is a collection of irrelevant words in a reivew\n",
        "nltk.download('stopwords')\n",
        "from nltk.corpus import stopwords\n",
        "check = check.split()\n",
        "print('\\n',check)\n",
        "check = [word for word in check if not word in set(stopwords.words('english'))]\n",
        "print('\\n',check)"
      ],
      "metadata": {
        "colab": {
          "base_uri": "https://localhost:8080/"
        },
        "id": "yzyynX6nuJX4",
        "outputId": "bc9cddf7-6b1b-43b5-f2e9-51dcb5bc12b5"
      },
      "execution_count": null,
      "outputs": [
        {
          "output_type": "stream",
          "name": "stdout",
          "text": [
            "[nltk_data] Downloading package stopwords to /root/nltk_data...\n",
            "[nltk_data]   Package stopwords is already up-to-date!\n",
            "\n",
            " ['wow', 'loved', 'this', 'place']\n",
            "\n",
            " ['wow', 'loved', 'place']\n"
          ]
        }
      ]
    },
    {
      "cell_type": "code",
      "source": [
        "#stemming the data\n",
        "#stemming is the process of identifying the root word from a given e.g. love is the root of loved,lovable etc\n",
        "\n",
        "from nltk.stem.porter import PorterStemmer\n",
        "ps = PorterStemmer()\n",
        "check = [ps.stem(word) for word in check if not word in set(stopwords.words('english'))]\n",
        "print('\\n',check)\n"
      ],
      "metadata": {
        "colab": {
          "base_uri": "https://localhost:8080/"
        },
        "id": "ealufN74w6Ud",
        "outputId": "a993378b-60e4-44b1-865b-76ad2e0f8d6f"
      },
      "execution_count": null,
      "outputs": [
        {
          "output_type": "stream",
          "name": "stdout",
          "text": [
            "\n",
            " ['wow', 'love', 'place']\n"
          ]
        }
      ]
    },
    {
      "cell_type": "code",
      "source": [
        "#joining back the phrase together\n",
        "check = ' '.join(check)\n",
        "print(check)"
      ],
      "metadata": {
        "colab": {
          "base_uri": "https://localhost:8080/"
        },
        "id": "f3iaSWt-zACi",
        "outputId": "81767b8c-be38-4388-c052-b18e9c149086"
      },
      "execution_count": null,
      "outputs": [
        {
          "output_type": "stream",
          "name": "stdout",
          "text": [
            "wow love place\n"
          ]
        }
      ]
    },
    {
      "cell_type": "code",
      "source": [
        "import re\n",
        "import nltk\n",
        "nltk.download('stopwords')\n",
        "from nltk.corpus import stopwords\n",
        "from nltk.stem.porter import PorterStemmer\n",
        "# steming is used to get only the root of the word which is enough to understand what the word means\n",
        "# loved to love hated to hate etc removes conjugations just keeping the verbs and adjectives\n",
        "corpus = []\n",
        "for i in range(0,1000): #the data contains 1000 reviews\n",
        "#the sub function is used not to remove the desired content in the below case we remove everything but the letters a-z and A-Z\n",
        "  review = re.sub('[^a-z A-Z^]',' ',dataset['Review'][i]) #reomving punctuations and replacing them with a space\n",
        "  review = review.lower() #transforming all the capital letters into lower case\n",
        "  review = review.split()  #slpitting the elements into words\n",
        "  ps = PorterStemmer() #porter stemming object creation\n",
        "  all_stopwords = stopwords.words('english')\n",
        "  all_stopwords.remove('not')\n",
        "  review = [ps.stem(word) for word in review if not word in set()]\n",
        "  review = ' '.join(review) #so that we don't end up with a single word\n",
        "  corpus.append(review)\n",
        "\n",
        "print(corpus)"
      ],
      "metadata": {
        "colab": {
          "base_uri": "https://localhost:8080/"
        },
        "id": "SeyZGQly0ijP",
        "outputId": "9bc1ec1e-5d16-42a2-f213-faa1d57dacaf"
      },
      "execution_count": null,
      "outputs": [
        {
          "output_type": "stream",
          "name": "stdout",
          "text": [
            "[nltk_data] Downloading package stopwords to /root/nltk_data...\n",
            "[nltk_data]   Package stopwords is already up-to-date!\n",
            "['wow love thi place', 'crust is not good', 'not tasti and the textur wa just nasti', 'stop by dure the late may bank holiday off rick steve recommend and love it', 'the select on the menu wa great and so were the price', 'now i am get angri and i want my damn pho', 'honeslti it didn t tast that fresh', 'the potato were like rubber and you could tell they had been made up ahead of time be kept under a warmer', 'the fri were great too', 'a great touch', 'servic wa veri prompt', 'would not go back', 'the cashier had no care what so ever on what i had to say it still end up be wayyy overpr', 'i tri the cape cod ravoli chicken with cranberri mmmm', 'i wa disgust becaus i wa pretti sure that wa human hair', 'i wa shock becaus no sign indic cash onli', 'highli recommend', 'waitress wa a littl slow in servic', 'thi place is not worth your time let alon vega', 'did not like at all', 'the burritto blah', 'the food amaz', 'servic is also cute', 'i could care less the interior is just beauti', 'so they perform', 'that s right the red velvet cake ohhh thi stuff is so good', 'they never brought a salad we ask for', 'thi hole in the wall ha great mexican street taco and friendli staff', 'took an hour to get our food onli tabl in restaur my food wa luke warm our sever wa run around like he wa total overwhelm', 'the worst wa the salmon sashimi', 'also there are combo like a burger fri and beer for which is a decent deal', 'thi wa like the final blow', 'i found thi place by accid and i could not be happier', 'seem like a good quick place to grab a bite of some familiar pub food but do yourself a favor and look elsewher', 'overal i like thi place a lot', 'the onli redeem qualiti of the restaur wa that it wa veri inexpens', 'ampl portion and good price', 'poor servic the waiter made me feel like i wa stupid everi time he came to the tabl', 'my first visit to hiro wa a delight', 'servic suck', 'the shrimp tender and moist', 'there is not a deal good enough that would drag me into that establish again', 'hard to judg whether these side were good becaus we were gross out by the melt styrofoam and didn t want to eat it for fear of get sick', 'on a posit note our server wa veri attent and provid great servic', 'frozen puck of disgust with some of the worst peopl behind the regist', 'the onli thing i did like wa the prime rib and dessert section', 'it s too bad the food is so damn gener', 'the burger is good beef cook just right', 'if you want a sandwich just go to ani firehous', 'my side greek salad with the greek dress wa so tasti and the pita and hummu wa veri refresh', 'we order the duck rare and it wa pink and tender on the insid with a nice char on the outsid', 'he came run after us when he realiz my husband had left hi sunglass on the tabl', 'their chow mein is so good', 'they have horribl attitud toward custom and talk down to each one when custom don t enjoy their food', 'the portion wa huge', 'love it friendli server great food wonder and imagin menu', 'the heart attack grill in downtown vega is an absolut flat line excus for a restaur', 'not much seafood and like string of pasta at the bottom', 'the salad had just the right amount of sauc to not over power the scallop which wa perfectli cook', 'the rip banana wa not onli rip but petrifi and tasteless', 'at least think to refil my water befor i struggl to wave you over for minut', 'thi place receiv star for their appet', 'the cocktail are all handmad and delici', 'we d definit go back here again', 'we are so glad we found thi place', 'great food and servic huge portion and they give a militari discount', 'alway a great time at do gringo', 'updat went back for a second time and it wa still just as amaz', 'we got the food and appar they have never heard of salt and the batter on the fish wa chewi', 'a great way to finish a great', 'the deal includ tast and drink and jeff went abov and beyond what we expect', 'realli realli good rice all the time', 'the servic wa meh', 'it took over min to get their milkshak which wa noth more than chocol milk', 'i guess i should have known that thi place would suck becaus it is insid of the excalibur but i didn t use my common sens', 'the scallop dish is quit appal for valu as well', 'time veri bad custom servic', 'the sweet potato fri were veri good and season well', 'today is the second time i ve been to their lunch buffet and it wa pretti good', 'there is so much good food in vega that i feel cheat for wast an eat opportun by go to rice and compani', 'come here is like experienc an underwhelm relationship where both parti can t wait for the other person to ask to break up', 'walk in and the place smell like an old greas trap and onli other there eat', 'the turkey and roast beef were bland', 'thi place ha it', 'the pan cake everyon are rave about tast like a sugari disast tailor to the palat of a six year old', 'i love the pho and the spring roll oh so yummi you have to tri', 'the poor batter to meat ratio made the chicken tender veri unsatisfi', 'all i have to say is the food wa amaz', 'omelet are to die for', 'everyth wa fresh and delici', 'in summari thi wa a larg disappoint dine experi', 'it s like a realli sexi parti in your mouth where you re outrag flirt with the hottest person at the parti', 'never been to hard rock casino befor will never ever step forward in it again', 'best breakfast buffet', 'say bye bye to your tip ladi', 'we ll never go again', 'will be back again', 'food arriv quickli', 'it wa not good', 'on the up side their cafe serv realli good food', 'our server wa fantast and when he found out the wife love roast garlic and bone marrow he ad extra to our meal and anoth marrow to go', 'the onli good thing wa our waiter he wa veri help and kept the bloddi mari s come', 'best buffet in town for the price you cannot beat it', 'i love their mussel cook in thi wine reduct the duck wa tender and their potato dish were delici', 'thi is one of the better buffet that i have been to', 'so we went to tigerlilli and had a fantast afternoon', 'the food wa delici our bartend wa attent and person and we got a great deal', 'the ambienc is wonder and there is music play', 'will go back next trip out', 'sooooo good', 'real sushi lover let s be honest yama is not that good', 'at least min pass in between us order and the food arriv and it wasn t that busi', 'thi is a realli fantast thai restaur which is definit worth a visit', 'nice spici and tender', 'good price', 'check it out', 'it wa pretti gross', 'i ve had better atmospher', 'kind of hard to mess up a steak but they did', 'although i veri much like the look and sound of thi place the actual experi wa a bit disappoint', 'i just don t know how thi place manag to serv the blandest food i have ever eaten when they are prepar indian cuisin', 'worst servic to boot but that is the least of their worri', 'servic wa fine and the waitress wa friendli', 'the guy all had steak and our steak love son who ha had steak at the best and worst place said it wa the best steak he s ever eaten', 'we thought you d have to ventur further away to get good sushi but thi place realli hit the spot that night', 'host staff were for lack of a better word bitch', 'bland not a like thi place for a number of reason and i don t want to wast time on bad review i ll leav it at that', 'phenomen food servic and ambianc', 'i wouldn t return', 'definit worth ventur off the strip for the pork belli will return next time i m in vega', 'thi place is way too overpr for mediocr food', 'penn vodka excel', 'they have a good select of food includ a massiv meatloaf sandwich a crispi chicken wrap a delish tuna melt and some tasti burger', 'the manag is rude', 'delici nyc bagel good select of cream chees real lox with caper even', 'great subway in fact it s so good when you come here everi other subway will not meet your expect', 'i had a serious solid breakfast here', 'thi is one of the best bar with food in vega', 'he wa extrem rude and realli there are so mani other restaur i would love to dine at dure a weekend in vega', 'my drink wa never empti and he made some realli great menu suggest', 'don t do it', 'the waiter wasn t help or friendli and rare check on us', 'my husband and i ate lunch here and were veri disappoint with the food and servic', 'and the red curri had so much bamboo shoot and wasn t veri tasti to me', 'nice blanket of moz over top but i feel like thi wa done to cover up the subpar food', 'the bathroom are clean and the place itself is well decor', 'the menu is alway chang food qualiti is go down servic is extrem slow', 'the servic wa a littl slow consid that were serv by peopl server so the food wa come in a slow pace', 'i give it thumb down', 'we watch our waiter pay a lot more attent to other tabl and ignor us', 'my fianc and i came in the middl of the day and we were greet and seat right away', 'thi is a great restaur at the mandalay bay', 'we wait for forti five minut in vain', 'crostini that came with the salad wa stale', 'some highlight great qualiti nigiri here', 'the staff is friendli and the joint is alway clean', 'thi wa a differ cut than the piec the other day but still wonder and tender s well as well flavor', 'i order the voodoo pasta and it wa the first time i d had realli excel pasta sinc go gluten free sever year ago', 'thi place is good', 'unfortun we must have hit the bakeri on leftov day becaus everyth we order wa stale', 'i came back today sinc they reloc and still not impress', 'i wa seat immedi', 'their menu is divers and reason price', 'avoid at all cost', 'restaur is alway full but never a wait', 'delici', 'thi place is hand down one of the best place to eat in the phoenix metro area', 'so don t go there if you are look for good food', 'i ve never been treat so bad', 'bacon is hella salti', 'we also order the spinach and avocado salad the ingredi were sad and the dress liter had zero tast', 'thi realli is how vega fine dine use to be right down to the menu hand to the ladi that have no price list', 'the waitress are veri friendli', 'lordi the khao soi is a dish that is not to be miss for curri lover', 'everyth on the menu is terrif and we were also thrill that they made amaz accommod for our vegetarian daughter', 'perhap i caught them on an off night judg by the other review but i m not inspir to go back', 'the servic here leav a lot to be desir', 'the atmospher is modern and hip while maintain a touch of cozi', 'not a weekli haunt but definit a place to come back to everi onc in a while', 'we liter sat there for minut with no one ask to take our order', 'the burger had absolut no flavor the meat itself wa total bland the burger wa overcook and there wa no charcoal flavor', 'i also decid not to send it back becaus our waitress look like she wa on the verg of have a heart attack', 'i dress up to be treat so rude', 'it wa probabl dirt', 'love thi place hit the spot when i want someth healthi but not lack in quantiti or flavor', 'i order the lemon raspberri ice cocktail which wa also incred', 'the food suck which we expect but it suck more than we could have imagin', 'interest decor', 'what i realli like there is the crepe station', 'also were serv hot bread and butter and home made potato chip with bacon bit on top veri origin and veri good', 'you can watch them prepar the delici food', 'both of the egg roll were fantast', 'when my order arriv one of the gyro wa miss', 'i had a salad with the wing and some ice cream for dessert and left feel quit satisfi', 'i m not realli sure how joey s wa vote best hot dog in the valley by reader of phoenix magazin', 'the best place to go for a tasti bowl of pho', 'the live music on friday total blow', 'i ve never been more insult or felt disrespect', 'veri friendli staff', 'it is worth the drive', 'i had heard good thing about thi place but it exceed everi hope i could have dream of', 'food wa great and so wa the serivc', 'the warm beer didn t help', 'great brunch spot', 'servic is friendli and invit', 'veri good lunch spot', 'i ve live here sinc and thi wa the first and last time i ve step foot into thi place', 'the worst experi ever', 'must have been an off night at thi place', 'the side are delish mix mushroom yukon gold pure white corn beateou', 'if that bug never show up i would have given a for sure but on the other side of the wall where thi bug wa climb wa the kitchen', 'for about minut we we re wait for her salad when we realiz that it wasn t come ani time soon', 'my friend love the salmon tartar', 'won t go back', 'extrem tasti', 'waitress wa good though', 'soggi and not good', 'the jamaican mojito are delici', 'which are small and not worth the price', 'the food is rich so order accordingli', 'the shower area is outsid so you can onli rins not take a full shower unless you don t mind be nude for everyon to see', 'the servic wa a bit lack', 'lobster bisqu bussel sprout risotto filet all need salt and pepper and of cours there is none at the tabl', 'hope thi bode for them go out of busi and someon who can cook can come in', 'it wa either too cold not enough flavor or just bad', 'i love the bacon wrap date', 'thi is an unbeliev bargain', 'the folk at otto alway make us feel so welcom and special', 'as for the main also uninspir', 'thi is the place where i first had pho and it wa amaz', 'thi wonder experi made thi place a must stop whenev we are in town again', 'if the food isn t bad enough for you then enjoy deal with the world s worst annoy drunk peopl', 'veri veri fun chef', 'order a doubl cheeseburg got a singl patti that wa fall apart pictur upload yeah still suck', 'great place to have a coupl drink and watch ani and all sport event as the wall are cover with tv s', 'if it were possibl to give them zero star they d have it', 'the descript said yum yum sauc and anoth said eel sauc yet anoth said spici mayo well none of the roll had sauc on them', 'i d say that would be the hardest decis honestli all of m s dish tast how they are suppos to tast amaz', 'if she had not roll the eye we may have stay not sure if we will go back and tri it again', 'everyon is veri attent provid excel custom servic', 'horribl don t wast your time and money', 'now thi dish wa quit flavour', 'by thi time our side of the restaur wa almost empti so there wa no excus', 'it wasn t busi either also the build wa freez cold', 'like the other review said you couldn t pay me to eat at thi place again', 'drink took close to minut to come out at one point', 'serious flavor delight folk', 'much better than the other ayc sushi place i went to in vega', 'the light is just dark enough to set the mood', 'base on the sub par servic i receiv and no effort to show their gratitud for my busi i won t be go back', 'owner s are realli great peopl', 'there is noth privileg about work eat there', 'the greek dress wa veri creami and flavor', 'overal i don t think that i would take my parent to thi place again becaus they made most of the similar complaint that i silent felt too', 'now the pizza itself wa good the peanut sauc wa veri tasti', 'we had at our tabl and the servic wa pretti fast', 'fantast servic here', 'i as well would ve given godfath zero star if possibl', 'they know how to make them here', 'veri tough and veri short on flavor', 'i hope thi place stick around', 'i have been in more than a few bar in vega and do not ever recal be charg for tap water', 'the restaur atmospher wa exquisit', 'good servic veri clean and inexpens to boot', 'the seafood wa fresh and gener in portion', 'plu it s onli buck', 'the servic wa not up to par either', 'thu far have onli visit twice and the food wa absolut delici each time', 'just as good as when i had it more than a year ago', 'for a self proclaim coffe cafe i wa wildli disappoint', 'the veggitarian platter is out of thi world', 'you cant go wrong with ani of the food here', 'you can t beat that', 'stop by thi place while in madison for the ironman veri friendli kind staff', 'the chef were friendli and did a good job', 'i ve had better not onli from dedic boba tea spot but even from jenni pho', 'i like the patio and the servic wa outstand', 'the goat taco didn t skimp on the meat and wow what flavor', 'i think not again', 'i had the mac salad and it wa pretti bland so i will not be get that again', 'i went to bachi burger on a friend s recommend and wa not disappoint', 'servic stink here', 'i wait and wait', 'thi place is not qualiti sushi it is not a qualiti restaur', 'i would definit recommend the wing as well as the pizza', 'great pizza and salad', 'thing that went wrong they burn the saganaki', 'we wait an hour for what wa a breakfast i could have done time better at home', 'thi place is amaz', 'i hate to disagre with my fellow yelper but my husband and i were so disappoint with thi place', 'wait hour never got either of our pizza as mani other around us who came in later did', 'just don t know whi they were so slow', 'the staff is great the food is delish and they have an incred beer select', 'i live in the neighborhood so i am disappoint i won t be back here becaus it is a conveni locat', 'i didn t know pull pork could be soooo delici', 'you get incred fresh fish prepar with care', 'befor i go in to whi i gave a star rate pleas know that thi wa my third time eat at bachi burger befor write a review', 'i love the fact that everyth on their menu is worth it', 'never again will i be dine at thi place', 'the food wa excel and servic wa veri good', 'good beer drink select and good food select', 'pleas stay away from the shrimp stir fri noodl', 'the potato chip order wa sad i could probabl count how mani chip were in that box and it wa probabl around', 'food wa realli bore', 'good servic check', 'thi greedi corpor will never see anoth dime from me', 'will never ever go back', 'as much as i d like to go back i can t get pass the atroci servic and will never return', 'in the summer you can dine in a charm outdoor patio so veri delight', 'i did not expect thi to be so good', 'fantast food', 'she order a toast english muffin that came out untoast', 'the food wa veri good', 'never go back', 'great food for the price which is veri high qualiti and hous made', 'the bu boy on the other hand wa so rude', 'by thi point my friend and i had basic figur out thi place wa a joke and didn t mind make it publicli and loudli known', 'back to good bbq lighter fare reason price and tell the public they are back to the old way', 'and consid the two of us left there veri full and happi for about you just can t go wrong', 'all the bread is made in hous', 'the onli downsid is the servic', 'also the fri are without a doubt the worst fri i ve ever had', 'servic wa except and food wa a good as all the review', 'a coupl of month later i return and had an amaz meal', 'favorit place in town for shawarrrrrrma', 'the black eye pea and sweet potato unreal', 'you won t be disappoint', 'they could serv it with just the vinaigrett and it may make for a better overal dish but it wa still veri good', 'i go to far too mani place and i ve never seen ani restaur that serv a egg breakfast especi for', 'when my mom and i got home she immedi got sick and she onli had a few bite of salad', 'the server are not pleasant to deal with and they don t alway honor pizza hut coupon', 'both of them were truli unbeliev good and i am so glad we went back', 'we had fantast servic and were pleas by the atmospher', 'everyth wa gross', 'i love thi place', 'great servic and food', 'first the bathroom at thi locat were dirti seat cover were not replenish just plain yucki', 'the burger i got the gold standard a burger and wa kind of disappoint', 'omg the food wa delicioso', 'there is noth authent about thi place', 'the spaghetti is noth special whatsoev', 'of all the dish the salmon wa the best but all were great', 'the veget are so fresh and the sauc feel like authent thai', 'it s worth drive up from tucson', 'the select wa probabl the worst i ve seen in vega there wa none', 'pretti good beer select too', 'thi place is like chipotl but better', 'classi warm atmospher fun and fresh appet succul steak basebal steak', 'star for the brick oven bread app', 'i have eaten here multipl time and each time the food wa delici', 'we sat anoth ten minut and final gave up and left', 'he wa terribl', 'everyon is treat equal special', 'it shouldn t take min for pancak and egg', 'it wa delici', 'on the good side the staff wa genuin pleasant and enthusiast a real treat', 'sadli gordon ramsey s steak is a place we shall sharpli avoid dure our next trip to vega', 'as alway the even wa wonder and the food delici', 'best fish i ve ever had in my life', 'the bathroom is just next door and veri nice', 'the buffet is small and all the food they offer wa bland', 'thi is an outstand littl restaur with some of the best food i have ever tast', 'pretti cool i would say', 'definit a turn off for me i doubt i ll be back unless someon els is buy', 'server did a great job handl our larg rowdi tabl', 'i find wast food to be despic but thi just wasn t food', 'my wife had the lobster bisqu soup which wa lukewarm', 'would come back again if i had a sushi crave while in vega', 'the staff are great the ambianc is great', 'he deserv star', 'i left with a stomach ach and felt sick the rest of the day', 'they drop more than the ball', 'the dine space is tini but elegantli decor and comfort', 'they will custom your order ani way you d like my usual is eggplant with green bean stir fri love it', 'and the bean and rice were mediocr at best', 'best taco in town by far', 'i took back my money and got outta there', 'in an interest part of town thi place is amaz', 'rude inconsider manag', 'the staff are now not as friendli the wait time for be serv are horribl no one even say hi for the first minut', 'i won t be back', 'they have great dinner', 'the servic wa outshin i definit recommend the halibut', 'the food wa terribl', 'will never ever go back and have told mani peopl what had happen', 'i don t recommend unless your car break down in front of it and you are starv', 'i will come back here everi time i m in vega', 'thi place deserv one star and ha to do with the food', 'thi is a disgrac', 'def come back to bowl next time', 'if you want healthi authent or ethic food tri thi place', 'i will continu to come here on ladi night andddd date night highli recommend thi place to anyon who is in the area', 'i have been here sever time in the past and the experi ha alway been great', 'we walk away stuf and happi about our first vega buffet experi', 'servic wa excel and price are pretti reason consid thi is vega and locat insid the crystal shop mall by aria', 'to summar the food wa incred nay transcend but noth bring me joy quit like the memori of the pneumat condiment dispens', 'i m probabl one of the few peopl to ever go to ian and not like it', 'kid pizza is alway a hit too with lot of great side dish option for the kiddo', 'servic is perfect and the famili atmospher is nice to see', 'cook to perfect and the servic wa impecc', 'thi one is simpli a disappoint', 'overal i wa veri disappoint with the qualiti of food at bouchon', 'i don t have to be an account to know i m get screw', 'great place to eat remind me of the littl mom and pop shop in the san francisco bay area', 'today wa my first tast of a buldogi gourmet hot dog and i have to tell you it wa more than i ever thought possibl', 'left veri frustrat', 'i ll definit be in soon again', 'food wa realli good and i got full petti fast', 'servic wa fantast', 'total wast of time', 'i don t know what kind it is but they have the best ice tea', 'come hungri leav happi and stuf', 'for servic i give them no star', 'i can assur you that you won t be disappoint', 'i can take a littl bad servic but the food suck', 'gave up tri to eat ani of the crust teeth still sore', 'but now i wa complet gross out', 'i realli enjoy eat here', 'first time go but i think i will quickli becom a regular', 'our server wa veri nice and even though he look a littl overwhelm with all of our need he stay profession and friendli until the end', 'from what my dinner companion told me everyth wa veri fresh with nice textur and tast', 'on the ground right next to our tabl wa a larg smear been step in and track everywher pile of green bird poop', 'furthermor you can t even find hour of oper on the websit', 'we ve tri to like thi place but after time i think we re done with them', 'what a mistak that wa', 'no complaint', 'thi is some serious good pizza and i m an expert connisseur on the topic', 'waiter wa a jerk', 'strike who want to be rush', 'these are the nicest restaur owner i ve ever come across', 'i never come again', 'we love the biscuit', 'servic is quick and friendli', 'order an appet and took minut and then the pizza anoth minut', 'so absolutley fantast', 'it wa a huge awkward lb piec of cow that wa th gristl and fat', 'definit will come back here again', 'i like steiner becaus it s dark and it feel like a bar', 'wow veri spici but delici', 'if you re not familiar check it out', 'i ll take my busi dinner dollar elsewher', 'i d love to go back', 'anyway thi fs restaur ha a wonder breakfast lunch', 'noth special', 'each day of the week they have a differ deal and it s all so delici', 'not to mention the combin of pear almond and bacon is a big winner', 'will not be back', 'sauc wa tasteless', 'the food is delici and just spici enough so be sure to ask for spicier if you prefer it that way', 'my ribey steak wa cook perfectli and had great mesquit flavor', 'i don t think we ll be go back anytim soon', 'food wa so gooodd', 'i am far from a sushi connoisseur but i can definit tell the differ between good food and bad food and thi wa certainli bad food', 'i wa so insult', 'the last time i had lunch here ha been bad', 'the chicken wing contain the driest chicken meat i have ever eaten', 'the food wa veri good and i enjoy everi mouth an enjoy relax venu for coupl small famili group etc', 'nargil i think you are great', 'best tater tot in the southwest', 'we love the place', 'definit not worth the i paid', 'the vanilla ice cream wa creami and smooth while the profiterol choux pastri wa fresh enough', 'im in az all the time and now have my new spot', 'the manag wa the worst', 'the insid is realli quit nice and veri clean', 'the food wa outstand and the price were veri reason', 'i don t think i ll be run back to carli s anytim soon for food', 'thi is wa due to the fact that it took minut to be acknowledg then anoth minut to get our food and they kept forget thing', 'love the margarita too', 'thi wa my first and onli vega buffet and it did not disappoint', 'veri good though', 'the one down note is the ventil could use some upgrad', 'great pork sandwich', 'don t wast your time here', 'total letdown i would much rather just go to the camelback flower shop and cartel coffe', 'third the chees on my friend s burger wa cold', 'we enjoy their pizza and brunch', 'the steak are all well trim and also perfectli cook', 'we had a group of when we claim we would onli have and they handl us beauti', 'i love it', 'we ask for the bill to leav without eat and they didn t bring that either', 'thi place is a jewel in la vega and exactli what i ve been hope to find in nearli ten year live here', 'seafood wa limit to boil shrimp and crab leg but the crab leg definit did not tast fresh', 'the select of food wa not the best', 'delici and i will absolut be back', 'thi isn t a small famili restaur thi is a fine dine establish', 'they had a toro tartar with a cavier that wa extraordinari and i like the thinli slice wagyu with white truffl', 'i dont think i will be back for a veri long time', 'it wa attach to a ga station and that is rare a good sign', 'how awesom is that', 'i will be back mani time soon', 'the menu had so much good stuff on it i could not decid', 'wors of all he humili hi worker right in front of me bunch of horribl name call', 'conclus veri fill meal', 'their daili special are alway a hit with my group', 'and then tragedi struck', 'the pancak wa also realli good and pretti larg at that', 'thi wa my first crawfish experi and it wa delici', 'their monster chicken fri steak and egg is my all time favorit', 'waitress wa sweet and funni', 'i also had to tast my mom s multi grain pumpkin pancak with pecan butter and they were amaz fluffi and delici', 'i d rather eat airlin food serious', 'cant say enough good thing about thi place', 'the ambianc wa incred', 'the waitress and manag are so friendli', 'i would not recommend thi place', 'overal i wasn t veri impress with noca', 'my gyro wa basic lettuc onli', 'terribl servic', 'thoroughli disappoint', 'i don t each much pasta but i love the homemad hand made pasta and thin pizza here', 'give it a tri you will be happi you did', 'by far the best cheesecurd we have ever had', 'reason price also', 'everyth wa perfect the night we were in', 'the food is veri good for your typic bar food', 'it wa a drive to get there', 'at first glanc it is a love bakeri cafe nice ambianc clean friendli staff', 'anyway i do not think i will go back there', 'point your finger at ani item on the menu order it and you won t be disappoint', 'oh thi is such a thing of beauti thi restaur', 'if you haven t gone here go now', 'a greasi unhealthi meal', 'first time there and might just be the last', 'those burger were amaz', 'similarli the deliveri man did not say a word of apolog when our food wa minut late', 'and it wa way to expens', 'be sure to order dessert even if you need to pack it to go the tiramisu and cannoli are both to die for', 'thi wa my first time and i can t wait until the next', 'the bartend wa also nice', 'everyth wa good and tasti', 'thi place is two thumb up way up', 'the best place in vega for breakfast just check out a sat or sun', 'if you love authent mexican food and want a whole bunch of interest yet delici meat to choos from you need to tri thi place', 'terribl manag', 'an excel new restaur by an experienc frenchman', 'if there were zero star i would give it zero star', 'great steak great side great wine amaz dessert', 'worst martini ever', 'the steak and the shrimp are in my opinion the best entre at gc', 'i had the opportun today to sampl your amaz pizza', 'we wait for thirti minut to be seat although there were vacant tabl and we were the onli folk wait', 'the yellowtail carpaccio wa melt in your mouth fresh', 'i won t tri go back there even if it s empti', 'no i m go to eat the potato that i found some stranger hair in it', 'just spici enough perfect actual', 'last night wa my second time dine here and i wa so happi i decid to go back', 'not even a hello we will be right with you', 'the dessert were a bit strang', 'my boyfriend and i came here for the first time on a recent trip to vega and could not have been more pleas with the qualiti of food and servic', 'i realli do recommend thi place you can go wrong with thi donut place', 'nice ambianc', 'i would recommend save room for thi', 'i guess mayb we went on an off night but it wa disgrac', 'howev my recent experi at thi particular locat wa not so good', 'i know thi is not like the other restaur at all someth is veri off here', 'avoid thi establish', 'i think thi restaur suffer from not tri hard enough', 'all of the tapa dish were delici', 'i heart thi place', 'my salad had a bland vinegrett on the babi green and heart of palm', 'after two i felt disgust', 'a good time', 'i believ that thi place is a great stop for those with a huge belli and hanker for sushi', 'gener portion and great tast', 'i will never go back to thi place and will never ever recommend thi place to anyon', 'the server went back and forth sever time not even so much as an are you be help', 'food wa delici', 'an hour serious', 'i consid thi theft', 'eew thi locat need a complet overhaul', 'we recent wit her poor qualiti of manag toward other guest as well', 'wait and wait and wait', 'he also came back to check on us regularli excel servic', 'our server wa super nice and check on us mani time', 'the pizza tast old super chewi in not a good way', 'i swung in to give them a tri but wa deepli disappoint', 'servic wa good and the compani wa better', 'the staff are also veri friendli and effici', 'as for the servic i m a fan becaus it s quick and you re be serv by some nice folk', 'boy wa that sucker dri', 'over rate', 'if you look for authent thai food go els where', 'their steak are recommend', 'after i pull up my car i wait for anoth minut befor be acknowledg', 'great food and great servic in a clean and friendli set', 'all in all i can assur you i ll be back', 'i hate those thing as much as cheap qualiti black oliv', 'my breakfast wa perpar great with a beauti present of giant slice of toast lightli dust with powder sugar', 'the kid play area is nasti', 'great place fo take out or eat in', 'the waitress wa friendli and happi to accomod for vegan veggi option', 'omg i felt like i had never eaten thai food until thi dish', 'it wa extrem crumbi and pretti tasteless', 'it wa a pale color instead of nice and char and ha no flavor', 'the crouton also tast homemad which is an extra plu', 'i got home to see the driest damn wing ever', 'it ll be a regular stop on my trip to phoenix', 'i realli enjoy crema caf befor they expand i even told friend they had the best breakfast', 'not good for the money', 'i miss it and wish they had one in philadelphia', 'we got sit fairli fast but end up wait minut just to place our order anoth minut befor the food arriv', 'they also have the best chees crisp in town', 'good valu great food great servic', 'couldn t ask for a more satisfi meal', 'the food is good', 'it wa awesom', 'i just want to leav', 'we made the drive all the way from north scottsdal and i wa not one bit disappoint', 'i will not be eat there again', 'the owner realli realli need to quit be soooooo cheap let them wrap my freak sandwich in two paper not one', 'i check out thi place a coupl year ago and wa not impress', 'the chicken i got wa definit reheat and wa onli ok the wedg were cold and soggi', 'sorri i will not be get food from here anytim soon', 'an absolut must visit', 'the cow tongu and cheek taco are amaz', 'my friend did not like hi bloodi mari', 'despit how hard i rate busi it actual rare for me to give a star', 'they realli want to make your experi a good one', 'i will not return', 'i had the chicken pho and it tast veri bland', 'veri disappoint', 'the grill chicken wa so tender and yellow from the saffron season', 'a drive thru mean you do not want to wait around for half an hour for your food but somehow when we end up go here they make us wait and wait', 'pretti awesom place', 'ambienc is perfect', 'best of luck to the rude and non custom servic focus new manag', 'ani grandmoth can make a roast chicken better than thi one', 'i ask multipl time for the wine list and after some time of be ignor i went to the hostess and got one myself', 'the staff is alway super friendli and help which is especi cool when you bring two small boy and a babi', 'four star for the food the guy in the blue shirt for hi great vibe still let us in to eat', 'the roast beef sandwich tast realli good', 'same even him and i are both drastic sick', 'high qualiti chicken on the chicken caesar salad', 'order burger rare came in we ll done', 'we were promptli greet and seat', 'tri to go here for lunch and it wa a madhous', 'i wa proven dead wrong by thi sushi bar not onli becaus the qualiti is great but the servic is fast and the food impecc', 'after wait an hour and be seat i wa not in the greatest of mood', 'thi is a good joint', 'the macaron here are insan good', 'i m not eat here', 'our waiter wa veri attent friendli and inform', 'mayb if they weren t cold they would have been somewhat edibl', 'thi place ha a lot of promis but fail to deliv', 'veri bad experi', 'what a mistak', 'food wa averag at best', 'great food', 'we won t be go back anytim soon', 'veri veri disappoint order the big bay plater', 'great place to relax and have an awesom burger and beer', 'it is perfect for a sit down famili meal or get togeth with a few friend', 'not much flavor to them and veri poorli construct', 'the patio seat wa veri comfort', 'the fri rice wa dri as well', 'hand down my favorit italian restaur', 'that just scream legit in my book somethat s also pretti rare here in vega', 'it wa just not a fun experi', 'the atmospher wa great with a love duo of violinist play song we request', 'i person love the hummu pita baklava falafel and baba ganoush it s amaz what they do with eggplant', 'veri conveni sinc we were stay at the mgm', 'the owner are super friendli and the staff is courteou', 'both great', 'eclect select', 'the sweet potato tot were good but the onion ring were perfect or as close as i have had', 'the staff wa veri attent', 'and the chef wa gener with hi time even came around twice so we can take pictur with him', 'the owner use to work at nobu so thi place is realli similar for half the price', 'googl mediocr and i imagin smashburg will pop up', 'dont go here', 'i promis they won t disappoint', 'as a sushi lover avoid thi place by all mean', 'what a great doubl cheeseburg', 'awesom servic and food', 'a fantast neighborhood gem', 'i can t wait to go back', 'the plantain were the worst i ve ever tast', 'it s a great place and i highli recommend it', 'servic wa slow and not attent', 'i gave it star then and i m give it star now', 'your staff spend more time talk to themselv than me', 'dessert panna cotta wa amaz', 'veri good food great atmospher', 'damn good steak', 'total brunch fail', 'price are veri reason flavor are spot on the sauc is home made and the slaw is not drench in mayo', 'the decor is nice and the piano music soundtrack is pleasant', 'the steak wa amaz rge fillet relleno wa the best seafood plate i have ever had', 'good food good servic', 'it wa absolut amaz', 'i probabl won t be back to be honest', 'will definit be back', 'the sergeant pepper beef sandwich with auju sauc is an excel sandwich as well', 'hawaiian breez mango magic and pineappl delight are the smoothi that i ve tri so far and they re all good', 'went for lunch servic wa slow', 'we had so much to say about the place befor we walk in that he expect it to be amaz but wa quickli disappoint', 'i wa mortifi', 'needless to say we will never be back here again', 'anyway the food wa definit not fill at all and for the price you pay you should expect more', 'the chip that came out were drip with greas and mostli not edibl', 'i wasn t realli impress with strip steak', 'have been go sinc and everi meal ha been awesom', 'our server wa veri nice and attent as were the other serv staff', 'the cashier wa friendli and even brought the food out to me', 'i work in the hospit industri in paradis valley and have refrain from recommend cibo ani longer', 'the atmospher here is fun', 'would not recommend to other', 'servic is quick and even to go order are just like we like it', 'i mean realli how do you get so famou for your fish and chip when it s so terribl', 'that said our mouth and belli were still quit pleas', 'not my thing', 'thumb up', 'if you are read thi pleas don t go there', 'i love the grill pizza remind me of legit italian pizza', 'onli pro larg seat area nice bar area great simpl drink menu the best brick oven pizza with homemad dough', 'they have a realli nice atmospher', 'tonight i had the elk filet special and it suck', 'after one bite i wa hook', 'we order some old classic and some new dish after go there a few time and were sore disappoint with everyth', 'cute quaint simpl honest', 'the chicken wa delici season and had the perfect fri on the outsid and moist chicken on the insid', 'the food wa great as alway compliment to the chef', 'special thank to dylan t for the recommend on what to order all yummi for my tummi', 'awesom select of beer', 'great food and awesom servic', 'one nice thing wa that they ad gratuiti on the bill sinc our parti wa larger than or and they didn t expect more tip than that', 'a fli wa in my appl juic a fli', 'the han nan chicken wa also veri tasti', 'as for the servic i thought it wa good', 'the food wa bare lukewarm so it must have been sit wait for the server to bring it out to us', 'ryan s bar is definit one edinburgh establish i won t be revisit', 'nicest chines restaur i ve been in a while', 'overal i like there food and the servic', 'they also now serv indian naan bread with hummu and some spici pine nut sauc that wa out of thi world', 'probabl never come back and wouldn t recommend it', 'friend s pasta also bad he bare touch it', 'tri them in the airport to experi some tasti food and speedi friendli servic', 'i love the decor with the chines calligraphi wall paper', 'never had anyth to complain about here', 'the restaur is veri clean and ha a famili restaur feel to it', 'it wa way over fri', 'i m not sure how long we stood there but it wa long enough for me to begin to feel awkwardli out of place', 'when i open the sandwich i wa impress but not in a good way', 'will not be back', 'there wa a warm feel with the servic and i felt like their guest for a special treat', 'an extens menu provid lot of option for breakfast', 'i alway order from the vegetarian menu dure dinner which ha a wide array of option to choos from', 'i have watch their price inflat portion get smaller and manag attitud grow rapidli', 'wonder lil tapa and the ambienc made me feel all warm and fuzzi insid', 'i got to enjoy the seafood salad with a fabul vinegrett', 'the wonton were thin not thick and chewi almost melt in your mouth', 'level spici wa perfect where spice didn t over whelm the soup', 'we were sat right on time and our server from the get go wa fantast', 'main thing i didn t enjoy is that the crowd is of older crowd around mid s and up', 'when i m on thi side of town thi will definit be a spot i ll hit up again', 'i had to wait over minut to get my drink and longer to get arepa', 'thi is a great place to eat', 'the jalapeno bacon is soooo good', 'the servic wa poor and that be nice', 'food wa good servic wa good price were good', 'the place wa not clean and the food oh so stale', 'the chicken dish are ok the beef is like shoe leather', 'but the servic wa beyond bad', 'i m so happi to be here', 'tast like dirt', 'one of the few place in phoenix that i would defin go back to again', 'the block wa amaz', 'it s close to my hous it s low key non fanci afford price good food', 'both the hot sour the egg flower soup were absolut star', 'my sashimi wa poor qualiti be soggi and tasteless', 'great time famili dinner on a sunday night', 'the food is not tasti at all not to say it real tradit hunan style', 'what did bother me wa the slow servic', 'the flair bartend are absolut amaz', 'their frozen margarita are way too sugari for my tast', 'these were so good we order them twice', 'so in a nutshel the restaraunt smell like a combin of a dirti fish market and a sewer', 'my girlfriend s veal wa veri bad', 'unfortun it wa not good', 'i had a pretti satifi experi', 'join the club and get awesom offer via email', 'perfect for someon me who onli like beer ice cold or in thi case even colder', 'bland and flavorless is a good way of describ the bare tepid meat', 'the chain which i m no fan of beat thi place easili', 'the nacho are a must have', 'we will not be come back', 'i don t have veri mani word to say about thi place but it doe everyth pretti well', 'the staff is super nice and veri quick even with the crazi crowd of the downtown juri lawyer and court staff', 'great atmospher friendli and fast servic', 'when i receiv my pita it wa huge it did have a lot of meat in it so thumb up there', 'onc your food arriv it s meh', 'pay for a hot dog and fri that look like it came out of a kid s meal at the wienerschnitzel is not my idea of a good meal', 'the classic main lobster roll wa fantast', 'my brother in law who work at the mall ate here same day and guess what he wa sick all night too', 'so good i am go to have to review thi place twice onc herea a tribut to the place and onc as a tribut to an event held here last night', 'the chip and salsa were realli good the salsa wa veri fresh', 'thi place is great', 'mediocr food', 'onc you get insid you ll be impress with the place', 'i m super pissd', 'and servic wa super friendli', 'whi are these sad littl veget so overcook', 'thi place wa such a nice surpris', 'they were golden crispi and delici', 'i had high hope for thi place sinc the burger are cook over a charcoal grill but unfortun the tast fell flat way flat', 'i could eat their bruschetta all day it is devin', 'not a singl employe came out to see if we were ok or even need a water refil onc they final serv us our food', 'lastli the mozzarella stick they were the best thing we order', 'the first time i ever came here i had an amaz experi i still tell peopl how awesom the duck wa', 'the server wa veri neglig of our need and made us feel veri unwelcom i would not suggest thi place', 'the servic wa terribl though', 'thi place is overpr not consist with their boba and it realli is overpr', 'it wa pack', 'i love thi place', 'i can say that the dessert were yummi', 'the food wa terribl', 'the season fruit wa fresh white peach pure', 'it kept get wors and wors so now i m offici done', 'thi place should honestli be blown up', 'but i definit would not eat here again', 'do not wast your money here', 'i love that they put their food in nice plastic contain as oppos to cram it in littl paper takeout box', 'the cr pe wa delic and thin and moist', 'aw servic', 'won t ever go here again', 'food qualiti ha been horribl', 'for that price i can think of a few place i would have much rather gone', 'the servic here is fair at best', 'i do love sushi but i found kabuki to be over price over hip and under servic', 'do yourself a favor and stay away from thi dish', 'veri poor servic', 'no one at the tabl thought the food wa abov averag or worth the wait that we had for it', 'best servic and food ever maria our server wa so good and friendli she made our day', 'they were excel', 'i paid the bill but did not tip becaus i felt the server did a terribl job', 'just had lunch here and had a great experi', 'i have never had such bland food which surpris me consid the articl we read focus so much on their spice and flavor', 'food is way overpr and portion are fuck small', 'i recent tri caballero s and i have been back everi week sinc', 'for buck a head i realli expect better food', 'the food came out at a good pace', 'i ate there twice on my last visit and especi enjoy the salmon salad', 'i won t be back', 'we could not believ how dirti the oyster were', 'thi place deserv no star', 'i would not recommend thi place', 'in fact i m go to round up to star just becaus she wa so awesom', 'to my disbelief each dish qualifi as the worst version of these food i have ever tast', 'bad day or not i have a veri low toler for rude custom servic peopl it is your job to be nice and polit wash dish otherwis', 'the potato were great and so wa the biscuit', 'i probabl would not go here again', 'so flavor and ha just the perfect amount of heat', 'the price is reason and the servic is great', 'the wife hate her meal coconut shrimp and our friend realli did not enjoy their meal either', 'my fella got the huevo ranchero and they didn t look too appeal', 'went in for happi hour great list of wine', 'some may say thi buffet is pricey but i think you get what you pay for and thi place you are get quit a lot', 'i probabl won t be come back here', 'worst food servic i ve had in a while', 'thi place is pretti good nice littl vibe in the restaur', 'talk about great custom servic of cours we will be back', 'hot dish are not hot cold dish are close to room temp i watch staff prepar food with bare hand no glove everyth is deep fri in oil', 'i love their fri and their bean', 'alway a pleasur deal with him', 'they have a plethora of salad and sandwich and everyth i ve tri get my seal of approv', 'thi place is awesom if you want someth light and healthi dure the summer', 'for sushi on the strip thi is the place to go', 'the servic wa great even the manag came and help with our tabl', 'the feel of the dine room wa more colleg cook cours than high class dine and the servic wa slow at best', 'i start thi review with two star but i m edit it to give it onli one', 'thi is the worst sushi i have ever eat besid costco s', 'all in all an excel restaur highlight by great servic a uniqu menu and a beauti set', 'my boyfriend and i sat at the bar and had a complet delight experi', 'weird vibe from owner', 'there wa hardli ani meat', 'i ve had better bagel from the groceri store', 'go to place for gyro', 'i love the owner chef hi one authent japanes cool dude', 'now the burger aren t as good the pizza which use to be amaz is doughi and flavorless', 'i found a six inch long piec of wire in my salsa', 'the servic wa terribl food wa mediocr', 'we defin enjoy ourselv', 'i order albondiga soup which wa just warm and tast like tomato soup with frozen meatbal', 'on three differ occas i ask for well done or medium well and all three time i got the bloodiest piec of meat on my plate', 'i had about two bite and refus to eat anymor', 'the servic wa extrem slow', 'after minut wait i got a tabl', 'serious killer hot chai latt', 'no allergi warn on the menu and the waitress had absolut no clue as to which meal did or did not contain peanut', 'my boyfriend tri the mediterranean chicken salad and fell in love', 'their rotat beer on tap is also a highlight of thi place', 'price is a bit of a concern at mellow mushroom', 'worst thai ever', 'if you stay in vega you must get breakfast here at least onc', 'i want to first say our server wa great and we had perfect servic', 'the pizza select are good', 'i had strawberri tea which wa good', 'highli unprofession and rude to a loyal patron', 'overal a great experi', 'spend your money elsewher', 'their regular toast bread wa equal satisfi with the occasion pat of butter mmmm', 'the buffet at bellagio wa far from what i anticip', 'and the drink are weak peopl', 'my order wa not correct', 'also i feel like the chip are bought not made in hous', 'after the disappoint dinner we went elsewher for dessert', 'the chip and sal a here is amaz', 'we won t be return', 'thi is my new fav vega buffet spot', 'i serious cannot believ that the owner ha so mani unexperienc employe that all are run around like chicken with their head cut off', 'veri veri sad', 'i felt insult and disrespect how could you talk and judg anoth human be like that', 'how can you call yourself a steakhous if you can t properli cook a steak i don t understand', 'i m not impress with the concept or the food', 'the onli thing i wasn t too crazi about wa their guacamol as i don t like it pur ed', 'there is realli noth for me at postino hope your experi is better', 'i got food poison here at the buffet', 'they brought a fresh batch of fri and i wa think yay someth warm but no', 'what should have been a hilari yummi christma eve dinner to rememb wa the biggest fail of the entir trip for us', 'needless to say i won t be go back anytim soon', 'thi place is disgust', 'everi time i eat here i see care teamwork to a profession degre', 'the ri style calamari wa a joke', 'howev there wa so much garlic in the fondu it wa bare edibl', 'i could bare stomach the meal but didn t complain becaus it wa a busi lunch', 'it wa so bad i had lost the heart to finish it', 'it also took her forev to bring us the check when we ask for it', 'we aren t one to make a scene at restaur but i just don t get it definit lost the love after thi one', 'disappoint experi', 'the food is about on par with denni s which is to say not good at all', 'if you want to wait for mediocr food and downright terribl servic then thi is the place for you', 'waaaaaayyyyyyyyyi over rate is all i am say', 'we won t be go back', 'the place wa fairli clean but the food simpli wasn t worth it', 'thi place lack style', 'the sangria wa about half of a glass wine full and wa ridicul', 'don t bother come here', 'the meat wa pretti dri i had the slice brisket and pull pork', 'the build itself seem pretti neat the bathroom is pretti trippi but i wouldn t eat here again', 'it wa equal aw', 'probabl not in a hurri to go back', 'veri slow at seat even with reserv', 'not good by ani stretch of the imagin', 'the cashew cream sauc wa bland and the veget were undercook', 'the chipolt ranch dip saus wa tasteless seem thin and water down with no heat', 'it wa a bit too sweet not realli spici enough and lack flavor', 'i wa veri disappoint', 'thi place is horribl and way overpr', 'mayb it s just their vegetarian fare but i ve been twice and i thought it wa averag at best', 'it wasn t busi at all and now we know whi', 'the tabl outsid are also dirti a lot of the time and the worker are not alway friendli and help with the menu', 'the ambianc here did not feel like a buffet set but more of a douchey indoor garden for tea and biscuit', 'con spotti servic', 'the fri were not hot and neither wa my burger', 'but then they came back cold', 'then our food came out disappoint ensu', 'the real disappoint wa our waiter', 'my husband said she wa veri rude did not even apolog for the bad food or anyth', 'the onli reason to eat here would be to fill up befor a night of bing drink just to get some carb in your stomach', 'insult profound deuchebaggeri and had to go outsid for a smoke break while serv just to solidifi it', 'if someon order two taco don t you think it may be part of custom servic to ask if it is combo or ala cart', 'she wa quit disappoint although some blame need to be place at her door', 'after all the rave review i couldn t wait to eat here what a disappoint', 'del taco is pretti nasti and should be avoid if possibl', 'it s not hard to make a decent hamburg', 'but i don t like it', 'hell no will i go back', 'we ve have gotten a much better servic from the pizza place next door than the servic we receiv from thi restaur', 'i don t know what the big deal is about thi place but i won t be back ya all', 'i immedi said i want to talk to the manag but i did not want to talk to the guy who wa do shot of firebal behind the bar', 'the ambianc isn t much better', 'unfortun it onli set us up for disapppoint with our entre', 'the food wasn t good', 'your server suck wait correct our server heimer suck', 'what happen next wa pretti off put', 'too bad caus i know it s famili own i realli want to like thi place', 'overpr for what you are get', 'i vomit in the bathroom mid lunch', 'i kept look at the time and it had soon becom minut yet still no food', 'i have been to veri few place to eat that under no circumst would i ever return to and thi top the list', 'we start with the tuna sashimi which wa brownish in color and obvious wasn t fresh', 'food wa below averag', 'it sure doe beat the nacho at the movi but i would expect a littl bit more come from a restaur', 'all in all ha long bay wa a bit of a flop', 'the problem i have is that they charg for a sandwich that is no bigger than a subway sub which offer better and more amount of veget', 'shrimp when i unwrap it i live onli a mile from brushfir it wa liter ice cold', 'it lack flavor seem undercook and dri', 'it realli is impress that the place hasn t close down', 'i would avoid thi place if you are stay in the mirag', 'the refri bean that came with my meal were dri out and crusti and the food wa bland', 'spend your money and time some place els', 'a ladi at the tabl next to us found a live green caterpillar in her salad', 'the present of the food wa aw', 'i can t tell you how disappoint i wa', 'i think food should have flavor and textur and both were lack', 'appetit instantli gone', 'overal i wa not impress and would not go back', 'the whole experi wa underwhelm and i think we ll just go to ninja sushi next time', 'then as if i hadn t wast enough of my life there they pour salt in the wound by draw out the time it took to bring the check']\n"
          ]
        }
      ]
    },
    {
      "cell_type": "code",
      "source": [
        "#CountVectorizer is a great tool provided by the scikit-learn library in Python.\n",
        "#It is used to transform a given text into a vector on the basis of the frequency (count) of each word that occurs in the entire text.\n",
        "from sklearn.feature_extraction.text import CountVectorizer #tokenizing the\n",
        "cv = CountVectorizer(max_features=1682)\n",
        "#making a sparse matrix to rmove extra english words like steve and rick etc\n",
        "#max_features is the rough number of the values of X such that a sparce matrix is created to acomodate all the phrases.\n",
        "X = cv.fit_transform(corpus).toarray()\n",
        "y = dataset['Liked'].values"
      ],
      "metadata": {
        "id": "_9vgIffm0-3n"
      },
      "execution_count": null,
      "outputs": []
    },
    {
      "cell_type": "code",
      "source": [
        "len(X[0])\n"
      ],
      "metadata": {
        "colab": {
          "base_uri": "https://localhost:8080/"
        },
        "id": "Cshk2pYU2kXU",
        "outputId": "95471e69-558c-46f6-c6b3-4d8be3aea615"
      },
      "execution_count": null,
      "outputs": [
        {
          "output_type": "execute_result",
          "data": {
            "text/plain": [
              "1682"
            ]
          },
          "metadata": {},
          "execution_count": 109
        }
      ]
    },
    {
      "cell_type": "code",
      "source": [
        "from sklearn.model_selection import train_test_split\n",
        "X_train,X_test,y_train,y_test = train_test_split(X,y,test_size = 0.2,random_state = 0)"
      ],
      "metadata": {
        "id": "RD3OkGZf2o20"
      },
      "execution_count": null,
      "outputs": []
    },
    {
      "cell_type": "code",
      "source": [
        "from sklearn.naive_bayes import GaussianNB\n",
        "obj = GaussianNB()\n",
        "obj.fit(X_train,y_train)"
      ],
      "metadata": {
        "colab": {
          "base_uri": "https://localhost:8080/"
        },
        "id": "liVtogqW2uRU",
        "outputId": "cf059d2b-d98c-4853-ec29-d39e7946aa7a"
      },
      "execution_count": null,
      "outputs": [
        {
          "output_type": "execute_result",
          "data": {
            "text/plain": [
              "GaussianNB()"
            ]
          },
          "metadata": {},
          "execution_count": 111
        }
      ]
    },
    {
      "cell_type": "code",
      "source": [
        "y_pred = obj.predict(X_test)"
      ],
      "metadata": {
        "id": "OeqZgSEh22Dv"
      },
      "execution_count": null,
      "outputs": []
    },
    {
      "cell_type": "code",
      "source": [
        "from sklearn.metrics import confusion_matrix,accuracy_score\n",
        "cm = confusion_matrix(y_test, y_pred)\n",
        "print(cm)\n",
        "accuracy_score(y_test,y_pred)"
      ],
      "metadata": {
        "colab": {
          "base_uri": "https://localhost:8080/"
        },
        "id": "boT4ijGT24eJ",
        "outputId": "40294296-af06-4dc0-e64b-ccfaa2b1e021"
      },
      "execution_count": null,
      "outputs": [
        {
          "output_type": "stream",
          "name": "stdout",
          "text": [
            "[[55 42]\n",
            " [12 91]]\n"
          ]
        },
        {
          "output_type": "execute_result",
          "data": {
            "text/plain": [
              "0.73"
            ]
          },
          "metadata": {},
          "execution_count": 113
        }
      ]
    },
    {
      "cell_type": "code",
      "source": [
        "# Random forest\n",
        "from sklearn.ensemble import RandomForestClassifier\n",
        "classifier = RandomForestClassifier(random_state = 0, n_estimators = 200,\n",
        "                                    criterion = 'entropy')\n",
        "classifier.fit(X_train, y_train)\n",
        "\n",
        "# Predicting Test Set\n",
        "y_pred = classifier.predict(X_test)\n",
        "acc = accuracy_score(y_test, y_pred)\n",
        "print(acc)"
      ],
      "metadata": {
        "colab": {
          "base_uri": "https://localhost:8080/"
        },
        "id": "Kzw1m8Ih3Hsv",
        "outputId": "4345d671-ba8f-4bcc-ceec-ef1f1aa2fffe"
      },
      "execution_count": null,
      "outputs": [
        {
          "output_type": "stream",
          "name": "stdout",
          "text": [
            "0.81\n"
          ]
        }
      ]
    },
    {
      "cell_type": "code",
      "source": [
        "# Random forest\n",
        "from sklearn.ensemble import RandomForestClassifier\n",
        "classifier = RandomForestClassifier(random_state = 0, n_estimators = 200,\n",
        "                                    criterion = 'gini')\n",
        "classifier.fit(X_train, y_train)\n",
        "\n",
        "# Predicting Test Set\n",
        "y_pred = classifier.predict(X_test)\n",
        "acc = accuracy_score(y_test, y_pred)\n",
        "print(acc)"
      ],
      "metadata": {
        "colab": {
          "base_uri": "https://localhost:8080/"
        },
        "id": "ZySAlvxE3uie",
        "outputId": "1f01b9c2-1d8d-4f51-fb77-4cba47a753ba"
      },
      "execution_count": null,
      "outputs": [
        {
          "output_type": "stream",
          "name": "stdout",
          "text": [
            "0.81\n"
          ]
        }
      ]
    },
    {
      "cell_type": "code",
      "source": [
        "# SVM (rbf)\n",
        "from sklearn.svm import SVC\n",
        "classifier = SVC(random_state = 0, kernel = 'rbf')\n",
        "classifier.fit(X_train, y_train)\n",
        "\n",
        "# Predicting Test Set\n",
        "y_pred = classifier.predict(X_test)\n",
        "acc = accuracy_score(y_test, y_pred)\n",
        "print(acc)"
      ],
      "metadata": {
        "colab": {
          "base_uri": "https://localhost:8080/"
        },
        "id": "OgGsYHTQ4rws",
        "outputId": "bf81719a-ad63-415b-9a3f-d061f859ed09"
      },
      "execution_count": null,
      "outputs": [
        {
          "output_type": "stream",
          "name": "stdout",
          "text": [
            "0.81\n"
          ]
        }
      ]
    }
  ]
}